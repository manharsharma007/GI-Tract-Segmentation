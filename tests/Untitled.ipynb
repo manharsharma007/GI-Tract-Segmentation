{
 "cells": [
  {
   "cell_type": "code",
   "execution_count": null,
   "id": "c5e6aafd-c702-4a5b-84f0-fa2bd5dee3a0",
   "metadata": {},
   "outputs": [],
   "source": [
    "import os\n",
    "import sys\n",
    "import torch\n",
    "from tqdm import tqdm\n",
    "sys.path.insert(0, os.path.abspath('..'))"
   ]
  },
  {
   "cell_type": "code",
   "execution_count": null,
   "id": "ee50d42d-1ccc-491a-99cd-edd5d9d448bc",
   "metadata": {},
   "outputs": [],
   "source": [
    "from includes.models_pretrained import get_unet_model"
   ]
  },
  {
   "cell_type": "code",
   "execution_count": null,
   "id": "baec596e-711d-4a49-bb98-26180da58499",
   "metadata": {},
   "outputs": [],
   "source": [
    "from includes.dataloader import prepare_loaders"
   ]
  },
  {
   "cell_type": "code",
   "execution_count": null,
   "id": "35720bcb-665a-48aa-90a5-69e1a937ab1b",
   "metadata": {},
   "outputs": [],
   "source": [
    "train_data, val_data = prepare_loaders(batchSize = 4, device = \"cuda\", numWorkers = 2, shuffle = False, csvFile = \"../data/train.csv\", basePath = '../data/', shape = (200, 200))"
   ]
  },
  {
   "cell_type": "code",
   "execution_count": null,
   "id": "1dee6bf8-a886-4ce3-85bc-8ae1550f15ca",
   "metadata": {},
   "outputs": [],
   "source": [
    "from includes.utils.loss import IoULoss"
   ]
  },
  {
   "cell_type": "code",
   "execution_count": null,
   "id": "03ca2cfc-2d67-4f59-b77f-55cd99d6b12a",
   "metadata": {},
   "outputs": [],
   "source": [
    "device = 'cuda' if torch.cuda.is_available() else 'mps' if torch.backends.mps.is_available() else 'cpu'"
   ]
  },
  {
   "cell_type": "code",
   "execution_count": null,
   "id": "a46a93cc-4ae3-4667-896a-b670969e2311",
   "metadata": {},
   "outputs": [],
   "source": [
    "model = get_unet_model(\"vanilla\", 1, 3, None, device)"
   ]
  },
  {
   "cell_type": "code",
   "execution_count": null,
   "id": "68e3ffaf-5cbb-484e-a57d-6ced3ccc65b2",
   "metadata": {},
   "outputs": [],
   "source": [
    "# HYPERPARAMETERS\n",
    "EPOCHS = 80\n",
    "BATCH_SIZE = 32\n",
    "LR = 0.0005\n",
    "WORKERS = 2\n",
    "history = {'loss' : [], 'accuracy' : [], 'val_loss' : [], 'val_accuracy' : [], 'lr' : []}"
   ]
  },
  {
   "cell_type": "code",
   "execution_count": null,
   "id": "82ccef2b-0f9c-4228-938e-e335605901ee",
   "metadata": {},
   "outputs": [],
   "source": [
    "def validationStats(val_data, loss_fn, score_fn):\n",
    "    model.eval();\n",
    "    loop = tqdm(val_data)\n",
    "    loss_running = 0.0\n",
    "    accuracy_running = 0.0\n",
    "    total = loop.total\n",
    "\n",
    "    for index, (data, target) in enumerate(loop):\n",
    "    \n",
    "        with torch.no_grad():\n",
    "            data = data.to(device=device)\n",
    "            target = target.to(device=device)\n",
    "            output = model(data)\n",
    "\n",
    "            score_cal = score_fn(output, target)\n",
    "            loss_cal = loss_fn(output, target)\n",
    "\n",
    "            loss_running += loss_cal.item()\n",
    "            accuracy_running += score_cal.item()\n",
    "\n",
    "        # print statistics\n",
    "        if (index + 1) % total == 0:\n",
    "            print('Accuracy: %.3f / loss: %.3f' %\n",
    "                  (accuracy_running / total, loss_running / total))\n",
    "    model.train();\n",
    "    return loss_running / total, accuracy_running / total"
   ]
  },
  {
   "cell_type": "code",
   "execution_count": null,
   "id": "9775ac68-6d60-4adb-b53b-17bdc2f0ad1d",
   "metadata": {},
   "outputs": [],
   "source": [
    "def train_fn(model, dataloader, optimizer, loss_fn, score_fn):\n",
    "\n",
    "    loop = tqdm(dataloader)\n",
    "    loss_running = 0\n",
    "    accuracy_running = 0\n",
    "\n",
    "    for index, (data, target) in enumerate(loop):\n",
    "        data = data.to(device=device)\n",
    "        target = target.to(device=device)\n",
    "        output = model(data)\n",
    "        _loss = loss_fn(output, target)\n",
    "        optimizer.zero_grad()\n",
    "\n",
    "        _loss.backward()\n",
    "        optimizer.step()\n",
    "        loop.set_postfix(loss=_loss.item())\n",
    "        \n",
    "        _score = score_fn(output, target)\n",
    "\n",
    "        loss_running += _loss.item()\n",
    "        accuracy_running += _score.item()\n",
    "\n",
    "        # print statistics\n",
    "        if (index+1) % loop.total == 0:\n",
    "            print('Accuracy: %.3f / loss: %.3f' %\n",
    "                  (accuracy_running / loop.total, loss_running / loop.total))\n",
    "            running_loss = 0.0\n",
    "        \n",
    "    history['loss'].append(loss_running / loop.total)\n",
    "    history['accuracy'].append(accuracy_running / loop.total)\n",
    "\n",
    "\n",
    "def train_mask():\n",
    "\n",
    "    loss_fn = IoULoss()\n",
    "    score_fn = IoU()\n",
    "    optimizer = torch.optim.Adam(model.parameters(), lr=LR, weight_decay=1e-7)\n",
    "    scheduler = torch.optim.lr_scheduler.CosineAnnealingLR(optimizer, T_max=80, eta_min=1e-5)\n",
    "\n",
    "    for epoch in range(EPOCHS):\n",
    "        train_fn(model, train_data, optimizer, loss_fn, score_fn)\n",
    "        scheduler.step()\n",
    "\n",
    "        loss_val, acc_val = validationStats(val_data, loss_fn, score_fn)\n",
    "\n",
    "        history['val_accuracy'].append(acc_val)\n",
    "        history['val_loss'].append(loss_val)\n",
    "        history['lr'].append(LR)\n",
    "\n",
    "        torch.save(model.state_dict(), f\"drive/MyDrive/deepnetwork/trainedModels/{model_name}\")"
   ]
  },
  {
   "cell_type": "code",
   "execution_count": null,
   "id": "352f5312-1fac-4f24-8792-aaa928c4590c",
   "metadata": {},
   "outputs": [],
   "source": [
    "# Train the network\n",
    "\n",
    "train_mask()"
   ]
  },
  {
   "cell_type": "code",
   "execution_count": null,
   "id": "64928209-d688-423f-a570-1db1f86557fa",
   "metadata": {},
   "outputs": [],
   "source": [
    "#\n",
    "## save the history\n",
    "#\n",
    "\n",
    "outfile = open(f'drive/MyDrive/deepnetwork/history/{model_name}_{time.time()}','wb')\n",
    "pickle.dump(history, outfile)\n",
    "outfile.close()"
   ]
  },
  {
   "cell_type": "code",
   "execution_count": null,
   "id": "141768a7-dbdd-4dcb-8f34-ca47005b7554",
   "metadata": {},
   "outputs": [],
   "source": [
    "# \n",
    "## validate the results\n",
    "#\n",
    "\n",
    "validationStats(val_data, IoULoss(), IoU())"
   ]
  },
  {
   "cell_type": "code",
   "execution_count": null,
   "id": "0d84aec7-8a22-4e9b-bb33-9c6af6750777",
   "metadata": {},
   "outputs": [],
   "source": [
    "# load saved history\n",
    "\n",
    "resnet34_infile = open('pretrained_models/history/resnet34History','rb')\n",
    "resnet34_history = pickle.load(resnet34_infile, encoding='bytes')\n",
    "\n",
    "resnet50_infile = open('pretrained_models/history/resnet50History','rb')\n",
    "resnet50_history = pickle.load(resnet50_infile, encoding='bytes')\n",
    "\n",
    "vgg16_infile = open('pretrained_models/history/vgg16History','rb')\n",
    "vgg16_history = pickle.load(vgg16_infile, encoding='bytes')\n",
    "\n",
    "mobilenet_infile = open('pretrained_models/history/mobilenetHistory','rb')\n",
    "mobilenet_history = pickle.load(mobilenet_infile, encoding='bytes')\n",
    "\n",
    "efficientnet_b1_infile = open('pretrained_models/history/efficientnetB1History','rb')\n",
    "efficientnet_b1_history = pickle.load(efficientnet_b1_infile, encoding='bytes')"
   ]
  },
  {
   "cell_type": "code",
   "execution_count": null,
   "id": "a14979be-8314-4821-9e63-fc6e5a93cb77",
   "metadata": {},
   "outputs": [],
   "source": [
    "#\n",
    "## plot the history\n",
    "#\n",
    "\n",
    "import matplotlib.pyplot as plt\n",
    "\n",
    "plt.figure(figsize=(20, 10))\n",
    "\n",
    "plt.subplot(1, 2, 1)\n",
    "plt.plot(resnet34_history['accuracy'])\n",
    "plt.plot(resnet34_history['val_accuracy'])\n",
    "plt.plot(resnet34_history['loss'])\n",
    "plt.plot(resnet34_history['val_loss'])\n",
    "plt.title('Resnet34 Model')\n",
    "plt.ylabel('accuracy')\n",
    "plt.xlabel('epoch')\n",
    "plt.legend(['accuracy', 'val accuracy', 'loss', 'val loss'], loc='upper left')\n",
    "\n",
    "\n",
    "\n",
    "plt.subplot(1, 2, 2)\n",
    "plt.plot(resnet50_history['accuracy'])\n",
    "plt.plot(resnet50_history['val_accuracy'])\n",
    "plt.plot(resnet50_history['loss'])\n",
    "plt.plot(resnet50_history['val_loss'])\n",
    "plt.title('Resnet50 Model')\n",
    "plt.ylabel('accuracy')\n",
    "plt.xlabel('epoch')\n",
    "plt.legend(['accuracy', 'val accuracy', 'loss', 'val loss'], loc='upper left')\n",
    "\n",
    "plt.savefig('drive/MyDrive/deepnetwork/plot1.png')\n",
    "\n",
    "plt.figure(figsize=(20, 7))\n",
    "\n",
    "plt.subplot(1, 3, 1)\n",
    "plt.plot(efficientnet_b1_history['accuracy'])\n",
    "plt.plot(efficientnet_b1_history['val_accuracy'])\n",
    "plt.plot(efficientnet_b1_history['loss'])\n",
    "plt.plot(efficientnet_b1_history['val_loss'])\n",
    "plt.title('Efficientnet-B1 Model')\n",
    "plt.ylabel('accuracy')\n",
    "plt.xlabel('epoch')\n",
    "plt.legend(['accuracy', 'val accuracy', 'loss', 'val loss'], loc='upper left')\n",
    "\n",
    "\n",
    "plt.subplot(1, 3, 2)\n",
    "plt.plot(mobilenet_history['accuracy'])\n",
    "plt.plot(mobilenet_history['val_accuracy'])\n",
    "plt.plot(mobilenet_history['loss'])\n",
    "plt.plot(mobilenet_history['val_loss'])\n",
    "plt.title('Mobilenet_v2 Model')\n",
    "plt.ylabel('accuracy')\n",
    "plt.xlabel('epoch')\n",
    "plt.legend(['accuracy', 'val accuracy', 'loss', 'val loss'], loc='upper left')\n",
    "\n",
    "\n",
    "plt.subplot(1, 3, 3)\n",
    "plt.plot(vgg16_history['accuracy'])\n",
    "plt.plot(vgg16_history['val_accuracy'])\n",
    "plt.plot(vgg16_history['loss'])\n",
    "plt.plot(vgg16_history['val_loss'])\n",
    "plt.title('VGG16 Model')\n",
    "plt.ylabel('accuracy')\n",
    "plt.xlabel('epoch')\n",
    "plt.legend(['accuracy', 'val accuracy', 'loss', 'val loss'], loc='upper left')\n",
    "\n",
    "\n",
    "plt.savefig('drive/MyDrive/deepnetwork/plot2.png')"
   ]
  }
 ],
 "metadata": {
  "kernelspec": {
   "display_name": "Python 3 (ipykernel)",
   "language": "python",
   "name": "python3"
  },
  "language_info": {
   "codemirror_mode": {
    "name": "ipython",
    "version": 3
   },
   "file_extension": ".py",
   "mimetype": "text/x-python",
   "name": "python",
   "nbconvert_exporter": "python",
   "pygments_lexer": "ipython3",
   "version": "3.9.12"
  }
 },
 "nbformat": 4,
 "nbformat_minor": 5
}
